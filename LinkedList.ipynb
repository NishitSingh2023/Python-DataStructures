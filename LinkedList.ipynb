{
 "cells": [
  {
   "cell_type": "markdown",
   "metadata": {
    "colab_type": "text",
    "id": "view-in-github"
   },
   "source": [
    "<a href=\"https://colab.research.google.com/github/NishitSingh2023/Python-DataStructures/blob/master/LinkedList.ipynb\" target=\"_parent\"><img src=\"https://colab.research.google.com/assets/colab-badge.svg\" alt=\"Open In Colab\"/></a>"
   ]
  },
  {
   "cell_type": "markdown",
   "metadata": {
    "colab": {},
    "colab_type": "code",
    "id": "b7SnuE6ZqAO3"
   },
   "source": [
    "# Linked List"
   ]
  },
  {
   "cell_type": "code",
   "execution_count": 5,
   "metadata": {},
   "outputs": [
    {
     "name": "stdout",
     "output_type": "stream",
     "text": [
      "1\n",
      "2\n",
      "3\n"
     ]
    }
   ],
   "source": [
    "class Node: \n",
    "  \n",
    "    # Function to initialise the node object \n",
    "    def __init__(self, data): \n",
    "        self.data = data  # Assign data \n",
    "        self.next = None  # Initialize next as null \n",
    "  \n",
    "  \n",
    "# Linked List class contains a Node object \n",
    "class LinkedList: \n",
    "  \n",
    "    # Function to initialize head \n",
    "    def __init__(self): \n",
    "        self.head = None\n",
    "        \n",
    "    def printList(self): \n",
    "        temp = self.head \n",
    "        while (temp): \n",
    "            print(temp.data) \n",
    "            temp = temp.next\n",
    "  \n",
    "# Code execution starts here \n",
    "if __name__=='__main__': \n",
    "  \n",
    "    # Start with the empty list \n",
    "    llist = LinkedList() \n",
    "  \n",
    "    llist.head = Node(1) \n",
    "    second = Node(2) \n",
    "    third = Node(3) \n",
    "    \n",
    "    llist.head.next = second; # Link first node with second \n",
    "    second.next = third; # Link second node with the third node \n",
    "  \n",
    "    llist.printList() \n",
    "    \n",
    "    "
   ]
  },
  {
   "cell_type": "markdown",
   "metadata": {},
   "source": [
    "## Inserting data"
   ]
  },
  {
   "cell_type": "code",
   "execution_count": 17,
   "metadata": {},
   "outputs": [],
   "source": [
    "class Node: \n",
    "  \n",
    "    # Function to initialise the node object \n",
    "    def __init__(self, data): \n",
    "        self.data = data  # Assign data \n",
    "        self.next = None  # Initialize next as null \n",
    "  \n",
    "  \n",
    "# Linked List class contains a Node object \n",
    "class LinkedList: \n",
    "  \n",
    "    # Function to initialize head \n",
    "    def __init__(self): \n",
    "        self.head = None\n",
    "        \n",
    "    def printList(self): \n",
    "        temp = self.head \n",
    "        while (temp): \n",
    "            print(temp.data) \n",
    "            temp = temp.next\n",
    "        \n",
    "    #======================================================== \n",
    "    # insert at start\n",
    "    def push(self, new_data): \n",
    "  \n",
    "        # 1 & 2: Allocate the Node & \n",
    "        #        Put in the data \n",
    "        new_node = Node(new_data) \n",
    "          \n",
    "        # 3. Make next of new Node as head \n",
    "        new_node.next = self.head \n",
    "          \n",
    "        # 4. Move the head to point to new Node  \n",
    "        self.head = new_node \n",
    "    \n",
    "    #=======================================================\n",
    "    # insert in between\n",
    "    def insertAfter(self, prev_node, new_data): \n",
    "  \n",
    "        # 1. check if the given prev_node exists \n",
    "        if prev_node is None: \n",
    "            print(\"The given previous node must inLinkedList.\")\n",
    "            return\n",
    "  \n",
    "        #  2. Create new node & \n",
    "        #  3. Put in the data \n",
    "        new_node = Node(new_data) \n",
    "  \n",
    "        # 4. Make next of new Node as next of prev_node  \n",
    "        new_node.next = prev_node.next\n",
    "  \n",
    "        # 5. make next of prev_node as new_node  \n",
    "        prev_node.next = new_node \n",
    "    \n",
    "    #=======================================================\n",
    "    #insert at last\n",
    "    def append(self, new_data): \n",
    " \n",
    "        # 1. Create a new node \n",
    "        # 2. Put in the data \n",
    "        # 3. Set next as None \n",
    "        new_node = Node(new_data) \n",
    "    \n",
    "        # 4. If the Linked List is empty, then make the \n",
    "        #    new node as head \n",
    "        if self.head is None: \n",
    "            self.head = new_node \n",
    "            return\n",
    "    \n",
    "        # 5. Else traverse till the last node \n",
    "        last = self.head \n",
    "        while (last.next): \n",
    "            last = last.next\n",
    "    \n",
    "        # 6. Change the next of last node \n",
    "        last.next =  new_node "
   ]
  },
  {
   "cell_type": "code",
   "execution_count": 21,
   "metadata": {},
   "outputs": [
    {
     "name": "stdout",
     "output_type": "stream",
     "text": [
      "Created linked list is:\n",
      "13\n",
      "1\n",
      "8\n",
      "7\n",
      "10\n",
      "6\n",
      "4\n"
     ]
    }
   ],
   "source": [
    "llist = LinkedList()\n",
    "llist.append(6)\n",
    "llist.push(7)\n",
    "llist.push(1)\n",
    "llist.insertAfter(llist.head.next, 10)\n",
    "llist.push(13)\n",
    "llist.append(4)\n",
    "llist.insertAfter(llist.head.next, 8)\n",
    "print('Created linked list is:')\n",
    "llist.printList() "
   ]
  },
  {
   "cell_type": "markdown",
   "metadata": {},
   "source": [
    "### Q."
   ]
  },
  {
   "cell_type": "code",
   "execution_count": 8,
   "metadata": {},
   "outputs": [],
   "source": [
    "class Node:  \n",
    "    def __init__(self, data): \n",
    "        self.data = data \n",
    "        self.next = None  \n",
    "  \n",
    "  \n",
    "class LinkedList: \n",
    "  \n",
    "    def __init__(self): \n",
    "        self.head = None\n",
    "        \n",
    "    def printList(self): \n",
    "        temp = self.head \n",
    "        while(temp): \n",
    "            print(temp.data) \n",
    "            temp = temp.next\n",
    "            \n",
    "    def push(self, new_data): \n",
    "        \n",
    "        new_node = Node(new_data) \n",
    "        new_node.next = self.head  \n",
    "        self.head = new_node \n",
    "        \n",
    "    def append(self, new_data): \n",
    " \n",
    "        new_node = Node(new_data) \n",
    "    \n",
    "        if self.head is None: \n",
    "            self.head = new_node \n",
    "            return\n",
    "\n",
    "        last = self.head \n",
    "        while (last.next): \n",
    "            last = last.next\n",
    "    \n",
    "        last.next =  new_node \n",
    "        \n",
    "        \n",
    "    def insertAtIndex(self, data, index):\n",
    "        c,count = 1,0\n",
    "        temp = self.head\n",
    "        \n",
    "        while temp.next != None:\n",
    "            c += 1\n",
    "            temp = temp.next\n",
    "        \n",
    "        if index == 0:\n",
    "            new_node = Node(data) \n",
    "            new_node.next = self.head  \n",
    "            self.head = new_node \n",
    "        \n",
    "        elif index > c:\n",
    "            print(\"Index Out Of Bound\")\n",
    "        \n",
    "        else:\n",
    "            temp = self.head\n",
    "            while count != index-1:\n",
    "                temp = temp.next\n",
    "                count += 1\n",
    "            \n",
    "            new_node = Node(data)\n",
    "            new_node.next = temp.next\n",
    "            temp.next = new_node \n",
    "        \n",
    "        "
   ]
  },
  {
   "cell_type": "code",
   "execution_count": 9,
   "metadata": {},
   "outputs": [
    {
     "name": "stdout",
     "output_type": "stream",
     "text": [
      "1\n",
      "2\n",
      "3\n",
      "4\n",
      "5\n"
     ]
    }
   ],
   "source": [
    "llist = LinkedList()\n",
    "llist.append(1)\n",
    "llist.append(2)\n",
    "llist.append(3)\n",
    "llist.append(4)\n",
    "llist.append(5)\n",
    "\n",
    "llist.printList()"
   ]
  },
  {
   "cell_type": "code",
   "execution_count": 11,
   "metadata": {},
   "outputs": [
    {
     "name": "stdout",
     "output_type": "stream",
     "text": [
      "Index Out Of Bound\n",
      "3\n",
      "1\n",
      "2\n",
      "3\n",
      "4\n",
      "5\n"
     ]
    }
   ],
   "source": [
    "#llist.insertAtIndex(data, index)\n",
    "llist.insertAtIndex(3, 10)\n",
    "llist.printList()"
   ]
  },
  {
   "cell_type": "markdown",
   "metadata": {},
   "source": [
    "# Doubly LinkedList"
   ]
  },
  {
   "cell_type": "code",
   "execution_count": 33,
   "metadata": {},
   "outputs": [],
   "source": [
    "class Node:\n",
    "    def __init__(self, data=None, next=None, pre=None):\n",
    "        self.data = data\n",
    "        self.next = next\n",
    "        self.pre = pre\n",
    "        \n",
    "    def setData(self, data):\n",
    "        self.data = data\n",
    "    \n",
    "    def getData(self, data):\n",
    "        return self.data\n",
    "    \n",
    "    def setNext(self, next):\n",
    "        self.next = next\n",
    "        \n",
    "    def hasNext(self):\n",
    "        return self.next != None\n",
    "    \n",
    "    "
   ]
  },
  {
   "cell_type": "code",
   "execution_count": 37,
   "metadata": {},
   "outputs": [],
   "source": [
    "class DoublyLinkedList:\n",
    "    def __init__(self):\n",
    "        self.head = None\n",
    "        self.tail = None\n",
    "        \n",
    "    def listLength(self):\n",
    "        current = self.head\n",
    "        count=0\n",
    "        while current != None:\n",
    "            count += 1\n",
    "            current = current.next\n",
    "        return count\n",
    "    \n",
    "    def push(self, data):\n",
    "        new_node = Node(data)\n",
    "        new_node.next = self.head\n",
    "        \n",
    "        if self.head is not None: \n",
    "            self.head.pre = new_node\n",
    "            \n",
    "        self.head = new_node\n",
    "        \n",
    "    def append(self, data):\n",
    "        new_node = Node(data)\n",
    "        new_node.head = None\n",
    "        \n",
    "        if self.head is None: \n",
    "            new_node.prev = None\n",
    "            self.head = new_node \n",
    "            return \n",
    "        \n",
    "        last = self.head\n",
    "        while(last.next is not None): \n",
    "            last = last.next\n",
    "            \n",
    "        last.next = new_node \n",
    "        new_node.prev = last \n",
    "        return\n",
    "    \n",
    "    def deleteNode(self, node):\n",
    "        if self.head == None:\n",
    "            return\n",
    "        \n",
    "        if self.head == node:\n",
    "            \n",
    "        \n",
    "        \n",
    "    def printForward(self): \n",
    "        node = self.head\n",
    "        print(\"\\nTraversal in forward direction\")\n",
    "        while(node is not None): \n",
    "            print(node.data) \n",
    "            last = node \n",
    "            node = node.next\n",
    "        \n",
    "    def printBackward(self):\n",
    "        node = self.head\n",
    "        print(\"\\nTraversal in reverse direction\")\n",
    "        while(node is not None):\n",
    "            last = node \n",
    "            node = node.next\n",
    "            \n",
    "        while(last is not None): \n",
    "            print(last.data)\n",
    "            last = last.pre\n",
    "        \n",
    "        "
   ]
  },
  {
   "cell_type": "code",
   "execution_count": 38,
   "metadata": {},
   "outputs": [],
   "source": [
    "dll = DoublyLinkedList()\n",
    "dll.push(2)\n",
    "dll.push(4)\n",
    "dll.push(6)\n",
    "dll.push(8)"
   ]
  },
  {
   "cell_type": "code",
   "execution_count": 40,
   "metadata": {},
   "outputs": [
    {
     "name": "stdout",
     "output_type": "stream",
     "text": [
      "\n",
      "Traversal in forward direction\n",
      "8\n",
      "6\n",
      "4\n",
      "2\n",
      "\n",
      "Traversal in reverse direction\n",
      "2\n",
      "4\n",
      "6\n",
      "8\n"
     ]
    }
   ],
   "source": [
    "dll.printForward()\n",
    "dll.printBackward()"
   ]
  },
  {
   "cell_type": "code",
   "execution_count": null,
   "metadata": {},
   "outputs": [],
   "source": []
  },
  {
   "cell_type": "markdown",
   "metadata": {},
   "source": [
    "# Circular LinkedList"
   ]
  },
  {
   "cell_type": "code",
   "execution_count": 2,
   "metadata": {},
   "outputs": [],
   "source": [
    "class Node:\n",
    "    def __init__(self, data=None, next=None):\n",
    "        self.data = data\n",
    "        self.next = next"
   ]
  },
  {
   "cell_type": "code",
   "execution_count": 4,
   "metadata": {},
   "outputs": [],
   "source": [
    "class CircularLinkedList:\n",
    "    def __init__(self):\n",
    "        self.head = None\n",
    "        \n",
    "    def Cll_length(self):\n",
    "        current = self.head\n",
    "        count = 0\n",
    "        if current == None:\n",
    "            return count\n",
    "        \n",
    "        while(current.head != currrent.head):\n",
    "            count += 1 \n",
    "            current = current.next\n",
    "        return count\n",
    "     \n",
    "    def printList(self): \n",
    "        temp = self.head\n",
    "        while(temp): \n",
    "            print(temp.data) \n",
    "            temp = temp.next\n",
    "    "
   ]
  },
  {
   "cell_type": "code",
   "execution_count": null,
   "metadata": {},
   "outputs": [],
   "source": []
  }
 ],
 "metadata": {
  "colab": {
   "authorship_tag": "ABX9TyOz7FGrQRCRw6pW+DeBcyF4",
   "include_colab_link": true,
   "name": "LinkedList.ipynb",
   "provenance": []
  },
  "kernelspec": {
   "display_name": "Python 3",
   "language": "python",
   "name": "python3"
  },
  "language_info": {
   "codemirror_mode": {
    "name": "ipython",
    "version": 3
   },
   "file_extension": ".py",
   "mimetype": "text/x-python",
   "name": "python",
   "nbconvert_exporter": "python",
   "pygments_lexer": "ipython3",
   "version": "3.6.10"
  }
 },
 "nbformat": 4,
 "nbformat_minor": 1
}
